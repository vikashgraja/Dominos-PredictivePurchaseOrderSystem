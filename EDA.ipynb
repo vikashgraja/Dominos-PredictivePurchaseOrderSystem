{
 "cells": [
  {
   "cell_type": "code",
   "execution_count": 1,
   "metadata": {
    "id": "jo2i-IgWzl1N"
   },
   "outputs": [],
   "source": [
    "import pandas as pd\n",
    "import numpy as np\n",
    "import matplotlib.pyplot as plt\n",
    "import seaborn as sns\n",
    "import warnings\n",
    "warnings.filterwarnings('ignore')"
   ]
  },
  {
   "cell_type": "code",
   "execution_count": 2,
   "metadata": {
    "id": "LZb_1gYq2NDm"
   },
   "outputs": [],
   "source": [
    "pizza_df = pd.read_excel('dataset/master/Pizza_Sale.xlsx')\n",
    "ingred_df = pd.read_excel('dataset/master/Pizza_ingredients.xlsx')"
   ]
  },
  {
   "cell_type": "code",
   "execution_count": 3,
   "metadata": {
    "colab": {
     "base_uri": "https://localhost:8080/",
     "height": 434
    },
    "id": "wYI_0aBm2p-_",
    "outputId": "765dd113-5014-4041-bea0-63d1a587eec8"
   },
   "outputs": [
    {
     "data": {
      "text/html": [
       "<div>\n",
       "<style scoped>\n",
       "    .dataframe tbody tr th:only-of-type {\n",
       "        vertical-align: middle;\n",
       "    }\n",
       "\n",
       "    .dataframe tbody tr th {\n",
       "        vertical-align: top;\n",
       "    }\n",
       "\n",
       "    .dataframe thead th {\n",
       "        text-align: right;\n",
       "    }\n",
       "</style>\n",
       "<table border=\"1\" class=\"dataframe\">\n",
       "  <thead>\n",
       "    <tr style=\"text-align: right;\">\n",
       "      <th></th>\n",
       "      <th>pizza_id</th>\n",
       "      <th>order_id</th>\n",
       "      <th>pizza_name_id</th>\n",
       "      <th>quantity</th>\n",
       "      <th>order_date</th>\n",
       "      <th>order_time</th>\n",
       "      <th>unit_price</th>\n",
       "      <th>total_price</th>\n",
       "      <th>pizza_size</th>\n",
       "      <th>pizza_category</th>\n",
       "      <th>pizza_ingredients</th>\n",
       "      <th>pizza_name</th>\n",
       "    </tr>\n",
       "  </thead>\n",
       "  <tbody>\n",
       "    <tr>\n",
       "      <th>0</th>\n",
       "      <td>1</td>\n",
       "      <td>1</td>\n",
       "      <td>hawaiian_m</td>\n",
       "      <td>1</td>\n",
       "      <td>2015-01-01 00:00:00</td>\n",
       "      <td>11:38:36</td>\n",
       "      <td>13.25</td>\n",
       "      <td>13.25</td>\n",
       "      <td>M</td>\n",
       "      <td>Classic</td>\n",
       "      <td>Sliced Ham, Pineapple, Mozzarella Cheese</td>\n",
       "      <td>The Hawaiian Pizza</td>\n",
       "    </tr>\n",
       "    <tr>\n",
       "      <th>1</th>\n",
       "      <td>2</td>\n",
       "      <td>2</td>\n",
       "      <td>classic_dlx_m</td>\n",
       "      <td>1</td>\n",
       "      <td>2015-01-01 00:00:00</td>\n",
       "      <td>11:57:40</td>\n",
       "      <td>16.00</td>\n",
       "      <td>16.00</td>\n",
       "      <td>M</td>\n",
       "      <td>Classic</td>\n",
       "      <td>Pepperoni, Mushrooms, Red Onions, Red Peppers,...</td>\n",
       "      <td>The Classic Deluxe Pizza</td>\n",
       "    </tr>\n",
       "    <tr>\n",
       "      <th>2</th>\n",
       "      <td>3</td>\n",
       "      <td>2</td>\n",
       "      <td>five_cheese_l</td>\n",
       "      <td>1</td>\n",
       "      <td>2015-01-01 00:00:00</td>\n",
       "      <td>11:57:40</td>\n",
       "      <td>18.50</td>\n",
       "      <td>18.50</td>\n",
       "      <td>L</td>\n",
       "      <td>Veggie</td>\n",
       "      <td>Mozzarella Cheese, Provolone Cheese, Smoked Go...</td>\n",
       "      <td>The Five Cheese Pizza</td>\n",
       "    </tr>\n",
       "    <tr>\n",
       "      <th>3</th>\n",
       "      <td>4</td>\n",
       "      <td>2</td>\n",
       "      <td>ital_supr_l</td>\n",
       "      <td>1</td>\n",
       "      <td>2015-01-01 00:00:00</td>\n",
       "      <td>11:57:40</td>\n",
       "      <td>20.75</td>\n",
       "      <td>20.75</td>\n",
       "      <td>L</td>\n",
       "      <td>Supreme</td>\n",
       "      <td>Calabrese Salami, Capocollo, Tomatoes, Red Oni...</td>\n",
       "      <td>The Italian Supreme Pizza</td>\n",
       "    </tr>\n",
       "    <tr>\n",
       "      <th>4</th>\n",
       "      <td>5</td>\n",
       "      <td>2</td>\n",
       "      <td>mexicana_m</td>\n",
       "      <td>1</td>\n",
       "      <td>2015-01-01 00:00:00</td>\n",
       "      <td>11:57:40</td>\n",
       "      <td>16.00</td>\n",
       "      <td>16.00</td>\n",
       "      <td>M</td>\n",
       "      <td>Veggie</td>\n",
       "      <td>Tomatoes, Red Peppers, Jalapeno Peppers, Red O...</td>\n",
       "      <td>The Mexicana Pizza</td>\n",
       "    </tr>\n",
       "  </tbody>\n",
       "</table>\n",
       "</div>"
      ],
      "text/plain": [
       "   pizza_id  order_id  pizza_name_id  quantity           order_date  \\\n",
       "0         1         1     hawaiian_m         1  2015-01-01 00:00:00   \n",
       "1         2         2  classic_dlx_m         1  2015-01-01 00:00:00   \n",
       "2         3         2  five_cheese_l         1  2015-01-01 00:00:00   \n",
       "3         4         2    ital_supr_l         1  2015-01-01 00:00:00   \n",
       "4         5         2     mexicana_m         1  2015-01-01 00:00:00   \n",
       "\n",
       "  order_time  unit_price  total_price pizza_size pizza_category  \\\n",
       "0   11:38:36       13.25        13.25          M        Classic   \n",
       "1   11:57:40       16.00        16.00          M        Classic   \n",
       "2   11:57:40       18.50        18.50          L         Veggie   \n",
       "3   11:57:40       20.75        20.75          L        Supreme   \n",
       "4   11:57:40       16.00        16.00          M         Veggie   \n",
       "\n",
       "                                   pizza_ingredients  \\\n",
       "0           Sliced Ham, Pineapple, Mozzarella Cheese   \n",
       "1  Pepperoni, Mushrooms, Red Onions, Red Peppers,...   \n",
       "2  Mozzarella Cheese, Provolone Cheese, Smoked Go...   \n",
       "3  Calabrese Salami, Capocollo, Tomatoes, Red Oni...   \n",
       "4  Tomatoes, Red Peppers, Jalapeno Peppers, Red O...   \n",
       "\n",
       "                  pizza_name  \n",
       "0         The Hawaiian Pizza  \n",
       "1   The Classic Deluxe Pizza  \n",
       "2      The Five Cheese Pizza  \n",
       "3  The Italian Supreme Pizza  \n",
       "4         The Mexicana Pizza  "
      ]
     },
     "execution_count": 3,
     "metadata": {},
     "output_type": "execute_result"
    }
   ],
   "source": [
    "pizza_df.head()"
   ]
  },
  {
   "cell_type": "code",
   "execution_count": 4,
   "metadata": {
    "colab": {
     "base_uri": "https://localhost:8080/"
    },
    "id": "OnCdIFHN-fxW",
    "outputId": "2fd82482-31de-43e5-8f79-d81a0aaabfbe"
   },
   "outputs": [
    {
     "name": "stdout",
     "output_type": "stream",
     "text": [
      "<class 'pandas.core.frame.DataFrame'>\n",
      "RangeIndex: 48620 entries, 0 to 48619\n",
      "Data columns (total 12 columns):\n",
      " #   Column             Non-Null Count  Dtype  \n",
      "---  ------             --------------  -----  \n",
      " 0   pizza_id           48620 non-null  int64  \n",
      " 1   order_id           48620 non-null  int64  \n",
      " 2   pizza_name_id      48604 non-null  object \n",
      " 3   quantity           48620 non-null  int64  \n",
      " 4   order_date         48620 non-null  object \n",
      " 5   order_time         48620 non-null  object \n",
      " 6   unit_price         48620 non-null  float64\n",
      " 7   total_price        48613 non-null  float64\n",
      " 8   pizza_size         48620 non-null  object \n",
      " 9   pizza_category     48597 non-null  object \n",
      " 10  pizza_ingredients  48607 non-null  object \n",
      " 11  pizza_name         48613 non-null  object \n",
      "dtypes: float64(2), int64(3), object(7)\n",
      "memory usage: 4.5+ MB\n"
     ]
    }
   ],
   "source": [
    "pizza_df.info()"
   ]
  },
  {
   "cell_type": "code",
   "execution_count": null,
   "metadata": {},
   "outputs": [],
   "source": []
  },
  {
   "cell_type": "code",
   "execution_count": 5,
   "metadata": {},
   "outputs": [],
   "source": [
    "def desc_na(data):\n",
    "    total=data.isnull().sum().sort_values(ascending=False)\n",
    "    percent=(data.isnull().sum()/data.isnull().count()*100).sort_values(ascending=False)\n",
    "    return pd.concat([total, percent], axis=1, keys=['Total', 'Percent'])"
   ]
  },
  {
   "cell_type": "code",
   "execution_count": 6,
   "metadata": {
    "colab": {
     "base_uri": "https://localhost:8080/",
     "height": 460
    },
    "id": "qVSVZVZl-prN",
    "outputId": "82542988-4809-4875-a672-0007882f3ebf"
   },
   "outputs": [
    {
     "data": {
      "text/html": [
       "<div>\n",
       "<style scoped>\n",
       "    .dataframe tbody tr th:only-of-type {\n",
       "        vertical-align: middle;\n",
       "    }\n",
       "\n",
       "    .dataframe tbody tr th {\n",
       "        vertical-align: top;\n",
       "    }\n",
       "\n",
       "    .dataframe thead th {\n",
       "        text-align: right;\n",
       "    }\n",
       "</style>\n",
       "<table border=\"1\" class=\"dataframe\">\n",
       "  <thead>\n",
       "    <tr style=\"text-align: right;\">\n",
       "      <th></th>\n",
       "      <th>Total</th>\n",
       "      <th>Percent</th>\n",
       "    </tr>\n",
       "  </thead>\n",
       "  <tbody>\n",
       "    <tr>\n",
       "      <th>pizza_category</th>\n",
       "      <td>23</td>\n",
       "      <td>0.047306</td>\n",
       "    </tr>\n",
       "    <tr>\n",
       "      <th>pizza_name_id</th>\n",
       "      <td>16</td>\n",
       "      <td>0.032908</td>\n",
       "    </tr>\n",
       "    <tr>\n",
       "      <th>pizza_ingredients</th>\n",
       "      <td>13</td>\n",
       "      <td>0.026738</td>\n",
       "    </tr>\n",
       "    <tr>\n",
       "      <th>total_price</th>\n",
       "      <td>7</td>\n",
       "      <td>0.014397</td>\n",
       "    </tr>\n",
       "    <tr>\n",
       "      <th>pizza_name</th>\n",
       "      <td>7</td>\n",
       "      <td>0.014397</td>\n",
       "    </tr>\n",
       "    <tr>\n",
       "      <th>pizza_id</th>\n",
       "      <td>0</td>\n",
       "      <td>0.000000</td>\n",
       "    </tr>\n",
       "    <tr>\n",
       "      <th>order_id</th>\n",
       "      <td>0</td>\n",
       "      <td>0.000000</td>\n",
       "    </tr>\n",
       "    <tr>\n",
       "      <th>quantity</th>\n",
       "      <td>0</td>\n",
       "      <td>0.000000</td>\n",
       "    </tr>\n",
       "    <tr>\n",
       "      <th>order_date</th>\n",
       "      <td>0</td>\n",
       "      <td>0.000000</td>\n",
       "    </tr>\n",
       "    <tr>\n",
       "      <th>order_time</th>\n",
       "      <td>0</td>\n",
       "      <td>0.000000</td>\n",
       "    </tr>\n",
       "    <tr>\n",
       "      <th>unit_price</th>\n",
       "      <td>0</td>\n",
       "      <td>0.000000</td>\n",
       "    </tr>\n",
       "    <tr>\n",
       "      <th>pizza_size</th>\n",
       "      <td>0</td>\n",
       "      <td>0.000000</td>\n",
       "    </tr>\n",
       "  </tbody>\n",
       "</table>\n",
       "</div>"
      ],
      "text/plain": [
       "                   Total   Percent\n",
       "pizza_category        23  0.047306\n",
       "pizza_name_id         16  0.032908\n",
       "pizza_ingredients     13  0.026738\n",
       "total_price            7  0.014397\n",
       "pizza_name             7  0.014397\n",
       "pizza_id               0  0.000000\n",
       "order_id               0  0.000000\n",
       "quantity               0  0.000000\n",
       "order_date             0  0.000000\n",
       "order_time             0  0.000000\n",
       "unit_price             0  0.000000\n",
       "pizza_size             0  0.000000"
      ]
     },
     "execution_count": 6,
     "metadata": {},
     "output_type": "execute_result"
    }
   ],
   "source": [
    "desc_na(pizza_df)"
   ]
  },
  {
   "cell_type": "code",
   "execution_count": 7,
   "metadata": {
    "id": "ljX-Qlk--4Mu"
   },
   "outputs": [],
   "source": [
    "pizza_df.dropna(inplace=True)"
   ]
  },
  {
   "cell_type": "markdown",
   "metadata": {},
   "source": [
    "## Parse Date"
   ]
  },
  {
   "cell_type": "code",
   "execution_count": 8,
   "metadata": {
    "id": "30D7_Le1hmjJ"
   },
   "outputs": [],
   "source": [
    "def parse_dates(date):\n",
    "  for fmt in ('%d-%m-%Y', '%d/%m/%Y'):\n",
    "    try:\n",
    "      return pd.to_datetime(date, format=fmt)\n",
    "    except ValueError:\n",
    "      pass\n",
    "  raise ValueError(f'no valid date format found for {date}')"
   ]
  },
  {
   "cell_type": "code",
   "execution_count": 9,
   "metadata": {
    "id": "98wIlk1mVg3z"
   },
   "outputs": [],
   "source": [
    "pizza_df['order_date'] = pizza_df['order_date'].apply(parse_dates)"
   ]
  },
  {
   "cell_type": "code",
   "execution_count": 10,
   "metadata": {
    "colab": {
     "base_uri": "https://localhost:8080/",
     "height": 241
    },
    "id": "qSmA3GqtVg2I",
    "outputId": "4bf90400-e8cb-455c-ce76-6431fdb30d6e"
   },
   "outputs": [
    {
     "data": {
      "text/plain": [
       "0   2015-01-01\n",
       "1   2015-01-01\n",
       "2   2015-01-01\n",
       "3   2015-01-01\n",
       "4   2015-01-01\n",
       "Name: order_date, dtype: datetime64[ns]"
      ]
     },
     "execution_count": 10,
     "metadata": {},
     "output_type": "execute_result"
    }
   ],
   "source": [
    "pizza_df['order_date'].head()"
   ]
  },
  {
   "cell_type": "markdown",
   "metadata": {},
   "source": [
    "## Group by order date"
   ]
  },
  {
   "cell_type": "code",
   "execution_count": 11,
   "metadata": {
    "colab": {
     "base_uri": "https://localhost:8080/",
     "height": 529
    },
    "id": "vCetzwy0kO_T",
    "outputId": "436071a7-8e19-4213-d12a-c909d6e0551f"
   },
   "outputs": [],
   "source": [
    "quantity_over_time = pizza_df.groupby('order_date')['quantity'].sum()"
   ]
  },
  {
   "cell_type": "code",
   "execution_count": 12,
   "metadata": {
    "colab": {
     "base_uri": "https://localhost:8080/",
     "height": 529
    },
    "id": "vCetzwy0kO_T",
    "outputId": "436071a7-8e19-4213-d12a-c909d6e0551f"
   },
   "outputs": [
    {
     "data": {
      "image/png": "[encoded data removed]",
      "text/plain": [
       "<Figure size 1200x400 with 1 Axes>"
      ]
     },
     "metadata": {},
     "output_type": "display_data"
    }
   ],
   "source": [
    "plt.figure(figsize=(12, 4))\n",
    "plt.plot(quantity_over_time.index, quantity_over_time.values)\n",
    "plt.xlabel('Date')\n",
    "plt.ylabel('Quantity')\n",
    "plt.title('Order Trend')\n",
    "plt.grid(True)\n",
    "plt.show()"
   ]
  },
  {
   "cell_type": "markdown",
   "metadata": {
    "id": "CQOAfXBbszpN"
   },
   "source": [
    "## Stationary Test"
   ]
  },
  {
   "cell_type": "code",
   "execution_count": null,
   "metadata": {},
   "outputs": [],
   "source": []
  },
  {
   "cell_type": "code",
   "execution_count": 13,
   "metadata": {
    "id": "pUMr29brnLuR"
   },
   "outputs": [],
   "source": [
    "from statsmodels.tsa.stattools import adfuller"
   ]
  },
  {
   "cell_type": "code",
   "execution_count": 14,
   "metadata": {
    "id": "L9cay5-lrwJr"
   },
   "outputs": [],
   "source": [
    "# H0: it is not stationary\n",
    "# H1: it is stationary\n",
    "\n",
    "def check_stationarity(ts):\n",
    "    dftest = adfuller(ts)\n",
    "    adf = dftest[0]\n",
    "    pvalue = dftest[1]\n",
    "    critical_value = dftest[4]['5%']\n",
    "    if (pvalue < 0.05) and (adf < critical_value):\n",
    "        print('The series is stationary')\n",
    "    else:\n",
    "        print('The series is NOT stationary')"
   ]
  },
  {
   "cell_type": "code",
   "execution_count": 15,
   "metadata": {
    "colab": {
     "base_uri": "https://localhost:8080/"
    },
    "id": "Hn5zJHTduWHs",
    "outputId": "8f7bd1a2-2b7e-45f3-de80-b9bfa504f50a"
   },
   "outputs": [
    {
     "name": "stdout",
     "output_type": "stream",
     "text": [
      "The series is stationary\n"
     ]
    }
   ],
   "source": [
    "check_stationarity(quantity_over_time)"
   ]
  },
  {
   "cell_type": "code",
   "execution_count": null,
   "metadata": {},
   "outputs": [],
   "source": []
  },
  {
   "cell_type": "code",
   "execution_count": 16,
   "metadata": {
    "id": "Bw2dEOvVwf_m"
   },
   "outputs": [],
   "source": [
    "from statsmodels.tsa.statespace.sarimax import SARIMAX\n",
    "from statsmodels.tsa.arima.model import ARIMA\n",
    "from sklearn.metrics import mean_absolute_error, mean_squared_error"
   ]
  },
  {
   "cell_type": "code",
   "execution_count": 17,
   "metadata": {
    "id": "pLXjAjptwf-M"
   },
   "outputs": [],
   "source": [
    "eval_data = pizza_df.groupby(['order_date', 'pizza_name'])['quantity'].sum().unstack().fillna(0)"
   ]
  },
  {
   "cell_type": "code",
   "execution_count": 18,
   "metadata": {
    "colab": {
     "base_uri": "https://localhost:8080/",
     "height": 356
    },
    "id": "HVp6-sNa1g92",
    "outputId": "c6ce86ba-8018-489a-f8da-7ce7e13efb6e"
   },
   "outputs": [
    {
     "data": {
      "text/html": [
       "<div>\n",
       "<style scoped>\n",
       "    .dataframe tbody tr th:only-of-type {\n",
       "        vertical-align: middle;\n",
       "    }\n",
       "\n",
       "    .dataframe tbody tr th {\n",
       "        vertical-align: top;\n",
       "    }\n",
       "\n",
       "    .dataframe thead th {\n",
       "        text-align: right;\n",
       "    }\n",
       "</style>\n",
       "<table border=\"1\" class=\"dataframe\">\n",
       "  <thead>\n",
       "    <tr style=\"text-align: right;\">\n",
       "      <th>pizza_name</th>\n",
       "      <th>The Barbecue Chicken Pizza</th>\n",
       "      <th>The Big Meat Pizza</th>\n",
       "      <th>The Brie Carre Pizza</th>\n",
       "      <th>The Calabrese Pizza</th>\n",
       "      <th>The California Chicken Pizza</th>\n",
       "      <th>The Chicken Alfredo Pizza</th>\n",
       "      <th>The Chicken Pesto Pizza</th>\n",
       "      <th>The Classic Deluxe Pizza</th>\n",
       "      <th>The Five Cheese Pizza</th>\n",
       "      <th>The Four Cheese Pizza</th>\n",
       "      <th>...</th>\n",
       "      <th>The Prosciutto and Arugula Pizza</th>\n",
       "      <th>The Sicilian Pizza</th>\n",
       "      <th>The Soppressata Pizza</th>\n",
       "      <th>The Southwest Chicken Pizza</th>\n",
       "      <th>The Spicy Italian Pizza</th>\n",
       "      <th>The Spinach Pesto Pizza</th>\n",
       "      <th>The Spinach Supreme Pizza</th>\n",
       "      <th>The Spinach and Feta Pizza</th>\n",
       "      <th>The Thai Chicken Pizza</th>\n",
       "      <th>The Vegetables + Vegetables Pizza</th>\n",
       "    </tr>\n",
       "    <tr>\n",
       "      <th>order_date</th>\n",
       "      <th></th>\n",
       "      <th></th>\n",
       "      <th></th>\n",
       "      <th></th>\n",
       "      <th></th>\n",
       "      <th></th>\n",
       "      <th></th>\n",
       "      <th></th>\n",
       "      <th></th>\n",
       "      <th></th>\n",
       "      <th></th>\n",
       "      <th></th>\n",
       "      <th></th>\n",
       "      <th></th>\n",
       "      <th></th>\n",
       "      <th></th>\n",
       "      <th></th>\n",
       "      <th></th>\n",
       "      <th></th>\n",
       "      <th></th>\n",
       "      <th></th>\n",
       "    </tr>\n",
       "  </thead>\n",
       "  <tbody>\n",
       "    <tr>\n",
       "      <th>2015-01-01</th>\n",
       "      <td>11.0</td>\n",
       "      <td>5.0</td>\n",
       "      <td>0.0</td>\n",
       "      <td>1.0</td>\n",
       "      <td>4.0</td>\n",
       "      <td>2.0</td>\n",
       "      <td>4.0</td>\n",
       "      <td>10.0</td>\n",
       "      <td>6.0</td>\n",
       "      <td>5.0</td>\n",
       "      <td>...</td>\n",
       "      <td>4.0</td>\n",
       "      <td>4.0</td>\n",
       "      <td>0.0</td>\n",
       "      <td>7.0</td>\n",
       "      <td>5.0</td>\n",
       "      <td>2.0</td>\n",
       "      <td>5.0</td>\n",
       "      <td>2.0</td>\n",
       "      <td>7.0</td>\n",
       "      <td>3.0</td>\n",
       "    </tr>\n",
       "    <tr>\n",
       "      <th>2015-01-02</th>\n",
       "      <td>12.0</td>\n",
       "      <td>9.0</td>\n",
       "      <td>3.0</td>\n",
       "      <td>7.0</td>\n",
       "      <td>15.0</td>\n",
       "      <td>3.0</td>\n",
       "      <td>2.0</td>\n",
       "      <td>13.0</td>\n",
       "      <td>5.0</td>\n",
       "      <td>6.0</td>\n",
       "      <td>...</td>\n",
       "      <td>6.0</td>\n",
       "      <td>5.0</td>\n",
       "      <td>3.0</td>\n",
       "      <td>9.0</td>\n",
       "      <td>9.0</td>\n",
       "      <td>5.0</td>\n",
       "      <td>3.0</td>\n",
       "      <td>4.0</td>\n",
       "      <td>8.0</td>\n",
       "      <td>1.0</td>\n",
       "    </tr>\n",
       "    <tr>\n",
       "      <th>2015-01-03</th>\n",
       "      <td>2.0</td>\n",
       "      <td>3.0</td>\n",
       "      <td>1.0</td>\n",
       "      <td>1.0</td>\n",
       "      <td>6.0</td>\n",
       "      <td>0.0</td>\n",
       "      <td>1.0</td>\n",
       "      <td>4.0</td>\n",
       "      <td>5.0</td>\n",
       "      <td>4.0</td>\n",
       "      <td>...</td>\n",
       "      <td>1.0</td>\n",
       "      <td>2.0</td>\n",
       "      <td>0.0</td>\n",
       "      <td>9.0</td>\n",
       "      <td>4.0</td>\n",
       "      <td>3.0</td>\n",
       "      <td>0.0</td>\n",
       "      <td>5.0</td>\n",
       "      <td>4.0</td>\n",
       "      <td>6.0</td>\n",
       "    </tr>\n",
       "    <tr>\n",
       "      <th>2015-01-04</th>\n",
       "      <td>2.0</td>\n",
       "      <td>3.0</td>\n",
       "      <td>0.0</td>\n",
       "      <td>2.0</td>\n",
       "      <td>3.0</td>\n",
       "      <td>3.0</td>\n",
       "      <td>2.0</td>\n",
       "      <td>8.0</td>\n",
       "      <td>7.0</td>\n",
       "      <td>6.0</td>\n",
       "      <td>...</td>\n",
       "      <td>4.0</td>\n",
       "      <td>8.0</td>\n",
       "      <td>6.0</td>\n",
       "      <td>10.0</td>\n",
       "      <td>4.0</td>\n",
       "      <td>4.0</td>\n",
       "      <td>6.0</td>\n",
       "      <td>1.0</td>\n",
       "      <td>3.0</td>\n",
       "      <td>5.0</td>\n",
       "    </tr>\n",
       "    <tr>\n",
       "      <th>2015-01-05</th>\n",
       "      <td>6.0</td>\n",
       "      <td>1.0</td>\n",
       "      <td>1.0</td>\n",
       "      <td>4.0</td>\n",
       "      <td>11.0</td>\n",
       "      <td>2.0</td>\n",
       "      <td>5.0</td>\n",
       "      <td>9.0</td>\n",
       "      <td>6.0</td>\n",
       "      <td>4.0</td>\n",
       "      <td>...</td>\n",
       "      <td>5.0</td>\n",
       "      <td>5.0</td>\n",
       "      <td>0.0</td>\n",
       "      <td>6.0</td>\n",
       "      <td>5.0</td>\n",
       "      <td>2.0</td>\n",
       "      <td>4.0</td>\n",
       "      <td>5.0</td>\n",
       "      <td>10.0</td>\n",
       "      <td>6.0</td>\n",
       "    </tr>\n",
       "  </tbody>\n",
       "</table>\n",
       "<p>5 rows × 32 columns</p>\n",
       "</div>"
      ],
      "text/plain": [
       "pizza_name  The Barbecue Chicken Pizza  The Big Meat Pizza  \\\n",
       "order_date                                                   \n",
       "2015-01-01                        11.0                 5.0   \n",
       "2015-01-02                        12.0                 9.0   \n",
       "2015-01-03                         2.0                 3.0   \n",
       "2015-01-04                         2.0                 3.0   \n",
       "2015-01-05                         6.0                 1.0   \n",
       "\n",
       "pizza_name  The Brie Carre Pizza  The Calabrese Pizza  \\\n",
       "order_date                                              \n",
       "2015-01-01                   0.0                  1.0   \n",
       "2015-01-02                   3.0                  7.0   \n",
       "2015-01-03                   1.0                  1.0   \n",
       "2015-01-04                   0.0                  2.0   \n",
       "2015-01-05                   1.0                  4.0   \n",
       "\n",
       "pizza_name  The California Chicken Pizza  The Chicken Alfredo Pizza  \\\n",
       "order_date                                                            \n",
       "2015-01-01                           4.0                        2.0   \n",
       "2015-01-02                          15.0                        3.0   \n",
       "2015-01-03                           6.0                        0.0   \n",
       "2015-01-04                           3.0                        3.0   \n",
       "2015-01-05                          11.0                        2.0   \n",
       "\n",
       "pizza_name  The Chicken Pesto Pizza  The Classic Deluxe Pizza  \\\n",
       "order_date                                                      \n",
       "2015-01-01                      4.0                      10.0   \n",
       "2015-01-02                      2.0                      13.0   \n",
       "2015-01-03                      1.0                       4.0   \n",
       "2015-01-04                      2.0                       8.0   \n",
       "2015-01-05                      5.0                       9.0   \n",
       "\n",
       "pizza_name  The Five Cheese Pizza  The Four Cheese Pizza  ...  \\\n",
       "order_date                                                ...   \n",
       "2015-01-01                    6.0                    5.0  ...   \n",
       "2015-01-02                    5.0                    6.0  ...   \n",
       "2015-01-03                    5.0                    4.0  ...   \n",
       "2015-01-04                    7.0                    6.0  ...   \n",
       "2015-01-05                    6.0                    4.0  ...   \n",
       "\n",
       "pizza_name  The Prosciutto and Arugula Pizza  The Sicilian Pizza  \\\n",
       "order_date                                                         \n",
       "2015-01-01                               4.0                 4.0   \n",
       "2015-01-02                               6.0                 5.0   \n",
       "2015-01-03                               1.0                 2.0   \n",
       "2015-01-04                               4.0                 8.0   \n",
       "2015-01-05                               5.0                 5.0   \n",
       "\n",
       "pizza_name  The Soppressata Pizza  The Southwest Chicken Pizza  \\\n",
       "order_date                                                       \n",
       "2015-01-01                    0.0                          7.0   \n",
       "2015-01-02                    3.0                          9.0   \n",
       "2015-01-03                    0.0                          9.0   \n",
       "2015-01-04                    6.0                         10.0   \n",
       "2015-01-05                    0.0                          6.0   \n",
       "\n",
       "pizza_name  The Spicy Italian Pizza  The Spinach Pesto Pizza  \\\n",
       "order_date                                                     \n",
       "2015-01-01                      5.0                      2.0   \n",
       "2015-01-02                      9.0                      5.0   \n",
       "2015-01-03                      4.0                      3.0   \n",
       "2015-01-04                      4.0                      4.0   \n",
       "2015-01-05                      5.0                      2.0   \n",
       "\n",
       "pizza_name  The Spinach Supreme Pizza  The Spinach and Feta Pizza  \\\n",
       "order_date                                                          \n",
       "2015-01-01                        5.0                         2.0   \n",
       "2015-01-02                        3.0                         4.0   \n",
       "2015-01-03                        0.0                         5.0   \n",
       "2015-01-04                        6.0                         1.0   \n",
       "2015-01-05                        4.0                         5.0   \n",
       "\n",
       "pizza_name  The Thai Chicken Pizza  The Vegetables + Vegetables Pizza  \n",
       "order_date                                                             \n",
       "2015-01-01                     7.0                                3.0  \n",
       "2015-01-02                     8.0                                1.0  \n",
       "2015-01-03                     4.0                                6.0  \n",
       "2015-01-04                     3.0                                5.0  \n",
       "2015-01-05                    10.0                                6.0  \n",
       "\n",
       "[5 rows x 32 columns]"
      ]
     },
     "execution_count": 18,
     "metadata": {},
     "output_type": "execute_result"
    }
   ],
   "source": [
    "eval_data.head()"
   ]
  },
  {
   "cell_type": "code",
   "execution_count": null,
   "metadata": {},
   "outputs": [],
   "source": []
  },
  {
   "cell_type": "code",
   "execution_count": 19,
   "metadata": {
    "id": "zIWIOUp91p-I"
   },
   "outputs": [],
   "source": [
    "one_pizza = eval_data['The Barbecue Chicken Pizza']"
   ]
  },
  {
   "cell_type": "code",
   "execution_count": 20,
   "metadata": {
    "id": "lREcnh2r3DY6"
   },
   "outputs": [],
   "source": [
    "# split train and test\n",
    "train = one_pizza[:-7]\n",
    "test = one_pizza[-7:]"
   ]
  },
  {
   "cell_type": "code",
   "execution_count": 21,
   "metadata": {
    "colab": {
     "base_uri": "https://localhost:8080/"
    },
    "id": "G2rz0Mu2AVYC",
    "outputId": "8e97ff1d-01ed-465d-f288-ef0fe1e5ecd5"
   },
   "outputs": [
    {
     "name": "stderr",
     "output_type": "stream",
     "text": [
      "/Library/Frameworks/Python.framework/Versions/3.11/lib/python3.11/site-packages/statsmodels/tsa/base/tsa_model.py:473: ValueWarning: A date index has been provided, but it has no associated frequency information and so will be ignored when e.g. forecasting.\n",
      "  self._init_dates(dates, freq)\n",
      "/Library/Frameworks/Python.framework/Versions/3.11/lib/python3.11/site-packages/statsmodels/tsa/base/tsa_model.py:473: ValueWarning: A date index has been provided, but it has no associated frequency information and so will be ignored when e.g. forecasting.\n",
      "  self._init_dates(dates, freq)\n",
      "/Library/Frameworks/Python.framework/Versions/3.11/lib/python3.11/site-packages/statsmodels/tsa/base/tsa_model.py:473: ValueWarning: A date index has been provided, but it has no associated frequency information and so will be ignored when e.g. forecasting.\n",
      "  self._init_dates(dates, freq)\n"
     ]
    }
   ],
   "source": [
    "# Fit Arima model\n",
    "ari_model = ARIMA(train, order=(1, 1, 0))\n",
    "ari_result = ari_model.fit()"
   ]
  },
  {
   "cell_type": "code",
   "execution_count": 22,
   "metadata": {
    "colab": {
     "base_uri": "https://localhost:8080/"
    },
    "id": "ItBfD0ITVvec",
    "outputId": "f6ad4f47-bbd0-4c34-da57-348bead2cbba"
   },
   "outputs": [
    {
     "name": "stderr",
     "output_type": "stream",
     "text": [
      "/Library/Frameworks/Python.framework/Versions/3.11/lib/python3.11/site-packages/statsmodels/tsa/base/tsa_model.py:836: ValueWarning: No supported index is available. Prediction results will be given with an integer index beginning at `start`.\n",
      "  return get_prediction_index(\n"
     ]
    }
   ],
   "source": [
    "# forecast\n",
    "ari_forecast = ari_result.get_forecast(steps=len(test))\n",
    "ari_fore_values = ari_forecast.predicted_mean"
   ]
  },
  {
   "cell_type": "code",
   "execution_count": 23,
   "metadata": {
    "colab": {
     "base_uri": "https://localhost:8080/"
    },
    "id": "1Uwwp83yePJt",
    "outputId": "8fdd78ba-c487-4b37-d28b-14acfcc297ee"
   },
   "outputs": [
    {
     "name": "stderr",
     "output_type": "stream",
     "text": [
      "/Library/Frameworks/Python.framework/Versions/3.11/lib/python3.11/site-packages/statsmodels/tsa/base/tsa_model.py:836: ValueWarning: No supported index is available. Prediction results will be given with an integer index beginning at `start`.\n",
      "  return get_prediction_index(\n"
     ]
    }
   ],
   "source": [
    "ari_predict = ari_result.predict(start=len(train), end=len(train)+len(test)-1, dynamic=True)"
   ]
  },
  {
   "cell_type": "code",
   "execution_count": 24,
   "metadata": {
    "id": "lJz3a-BUuLap"
   },
   "outputs": [],
   "source": [
    "ari_predict.index = test.index"
   ]
  },
  {
   "cell_type": "code",
   "execution_count": 25,
   "metadata": {
    "colab": {
     "base_uri": "https://localhost:8080/",
     "height": 300
    },
    "id": "xpM55aNblU0O",
    "outputId": "69feb73a-7a29-4ab2-fc55-89c9526ed98b"
   },
   "outputs": [
    {
     "data": {
      "text/html": [
       "<div>\n",
       "<style scoped>\n",
       "    .dataframe tbody tr th:only-of-type {\n",
       "        vertical-align: middle;\n",
       "    }\n",
       "\n",
       "    .dataframe tbody tr th {\n",
       "        vertical-align: top;\n",
       "    }\n",
       "\n",
       "    .dataframe thead th {\n",
       "        text-align: right;\n",
       "    }\n",
       "</style>\n",
       "<table border=\"1\" class=\"dataframe\">\n",
       "  <thead>\n",
       "    <tr style=\"text-align: right;\">\n",
       "      <th></th>\n",
       "      <th>Actual</th>\n",
       "      <th>Predicted</th>\n",
       "    </tr>\n",
       "    <tr>\n",
       "      <th>order_date</th>\n",
       "      <th></th>\n",
       "      <th></th>\n",
       "    </tr>\n",
       "  </thead>\n",
       "  <tbody>\n",
       "    <tr>\n",
       "      <th>2015-12-24</th>\n",
       "      <td>4.0</td>\n",
       "      <td>5.084266</td>\n",
       "    </tr>\n",
       "    <tr>\n",
       "      <th>2015-12-26</th>\n",
       "      <td>5.0</td>\n",
       "      <td>5.503550</td>\n",
       "    </tr>\n",
       "    <tr>\n",
       "      <th>2015-12-27</th>\n",
       "      <td>4.0</td>\n",
       "      <td>5.311574</td>\n",
       "    </tr>\n",
       "    <tr>\n",
       "      <th>2015-12-28</th>\n",
       "      <td>2.0</td>\n",
       "      <td>5.399474</td>\n",
       "    </tr>\n",
       "    <tr>\n",
       "      <th>2015-12-29</th>\n",
       "      <td>4.0</td>\n",
       "      <td>5.359227</td>\n",
       "    </tr>\n",
       "    <tr>\n",
       "      <th>2015-12-30</th>\n",
       "      <td>6.0</td>\n",
       "      <td>5.377655</td>\n",
       "    </tr>\n",
       "    <tr>\n",
       "      <th>2015-12-31</th>\n",
       "      <td>10.0</td>\n",
       "      <td>5.369217</td>\n",
       "    </tr>\n",
       "  </tbody>\n",
       "</table>\n",
       "</div>"
      ],
      "text/plain": [
       "            Actual  Predicted\n",
       "order_date                   \n",
       "2015-12-24     4.0   5.084266\n",
       "2015-12-26     5.0   5.503550\n",
       "2015-12-27     4.0   5.311574\n",
       "2015-12-28     2.0   5.399474\n",
       "2015-12-29     4.0   5.359227\n",
       "2015-12-30     6.0   5.377655\n",
       "2015-12-31    10.0   5.369217"
      ]
     },
     "execution_count": 25,
     "metadata": {},
     "output_type": "execute_result"
    }
   ],
   "source": [
    "concatenated_series = pd.concat([test, ari_predict], axis=1)\n",
    "concatenated_series.columns = ['Actual', 'Predicted']\n",
    "concatenated_series"
   ]
  },
  {
   "cell_type": "code",
   "execution_count": 26,
   "metadata": {
    "colab": {
     "base_uri": "https://localhost:8080/",
     "height": 519
    },
    "id": "YOfFI5Vlm0Ub",
    "outputId": "85da5768-8cc5-47ea-e7e8-bac08f0bb1d4"
   },
   "outputs": [
    {
     "data": {
      "image/png": "[encoded data removed]",
      "text/plain": [
       "<Figure size 1200x600 with 1 Axes>"
      ]
     },
     "metadata": {},
     "output_type": "display_data"
    }
   ],
   "source": [
    "concatenated_series.plot(figsize=(12, 6))\n",
    "plt.xlabel('Order Date')\n",
    "plt.ylabel('Quantity Purchased')\n",
    "plt.title('Actual vs. Predicted Quantity Purchased for Barbecue Chicken Pizza')\n",
    "plt.show()"
   ]
  },
  {
   "cell_type": "code",
   "execution_count": 27,
   "metadata": {
    "colab": {
     "base_uri": "https://localhost:8080/"
    },
    "id": "f-4hdJAdWcV0",
    "outputId": "640b0d49-1dec-46f2-ac4b-d7f5cd552b5b"
   },
   "outputs": [
    {
     "name": "stdout",
     "output_type": "stream",
     "text": [
      "ARIMA MAE: 1.844459820206821\n",
      "ARIMA MSE: 5.483543168447492\n",
      "ARIMA RMSE: 2.3416966431302524\n"
     ]
    }
   ],
   "source": [
    "# Evaluate the model\n",
    "mae = mean_absolute_error(test, ari_fore_values)\n",
    "mse = mean_squared_error(test, ari_fore_values)\n",
    "rmse = np.sqrt(mse)\n",
    "\n",
    "print(f'ARIMA MAE: {mae}')\n",
    "print(f'ARIMA MSE: {mse}')\n",
    "print(f'ARIMA RMSE: {rmse}')"
   ]
  },
  {
   "cell_type": "code",
   "execution_count": 28,
   "metadata": {
    "colab": {
     "base_uri": "https://localhost:8080/"
    },
    "id": "Br3V9dUIW3ai",
    "outputId": "fa125421-7a09-4ea8-a26a-71ce14866f2b"
   },
   "outputs": [
    {
     "name": "stderr",
     "output_type": "stream",
     "text": [
      "/Library/Frameworks/Python.framework/Versions/3.11/lib/python3.11/site-packages/statsmodels/tsa/base/tsa_model.py:473: ValueWarning: A date index has been provided, but it has no associated frequency information and so will be ignored when e.g. forecasting.\n",
      "  self._init_dates(dates, freq)\n",
      "/Library/Frameworks/Python.framework/Versions/3.11/lib/python3.11/site-packages/statsmodels/tsa/base/tsa_model.py:473: ValueWarning: A date index has been provided, but it has no associated frequency information and so will be ignored when e.g. forecasting.\n",
      "  self._init_dates(dates, freq)\n"
     ]
    },
    {
     "name": "stdout",
     "output_type": "stream",
     "text": [
      "RUNNING THE L-BFGS-B CODE\n",
      "\n",
      "           * * *\n",
      "\n",
      "Machine precision = 2.220D-16\n",
      " N =            5     M =           10\n",
      "\n",
      "At X0         0 variables are exactly at the bounds\n",
      "\n",
      "At iterate    0    f=  2.68177D+00    |proj g|=  7.28031D-02\n"
     ]
    },
    {
     "name": "stderr",
     "output_type": "stream",
     "text": [
      " This problem is unconstrained.\n"
     ]
    },
    {
     "name": "stdout",
     "output_type": "stream",
     "text": [
      "\n",
      "At iterate    5    f=  2.46590D+00    |proj g|=  1.79135D-02\n",
      "\n",
      "At iterate   10    f=  2.45033D+00    |proj g|=  9.21384D-03\n",
      "\n",
      "At iterate   15    f=  2.44880D+00    |proj g|=  1.89396D-03\n",
      "\n",
      "At iterate   20    f=  2.44869D+00    |proj g|=  7.77467D-04\n",
      "\n",
      "At iterate   25    f=  2.44868D+00    |proj g|=  1.42990D-04\n",
      "\n",
      "At iterate   30    f=  2.44867D+00    |proj g|=  2.72418D-05\n",
      "\n",
      "           * * *\n",
      "\n",
      "Tit   = total number of iterations\n",
      "Tnf   = total number of function evaluations\n",
      "Tnint = total number of segments explored during Cauchy searches\n",
      "Skip  = number of BFGS updates skipped\n",
      "Nact  = number of active bounds at final generalized Cauchy point\n",
      "Projg = norm of the final projected gradient\n",
      "F     = final function value\n",
      "\n",
      "           * * *\n",
      "\n",
      "   N    Tit     Tnf  Tnint  Skip  Nact     Projg        F\n",
      "    5     30     35      1     0     0   2.724D-05   2.449D+00\n",
      "  F =   2.4486742555183776     \n",
      "\n",
      "CONVERGENCE: REL_REDUCTION_OF_F_<=_FACTR*EPSMCH             \n"
     ]
    }
   ],
   "source": [
    "# fit SARIMA model\n",
    "sari_model = SARIMAX(train, order=(1, 1, 1), seasonal_order=(1, 1, 1, 7))\n",
    "sari_result = sari_model.fit()"
   ]
  },
  {
   "cell_type": "code",
   "execution_count": 29,
   "metadata": {
    "colab": {
     "base_uri": "https://localhost:8080/"
    },
    "id": "WmkxQYbeXL-x",
    "outputId": "31bd3e88-454e-4493-92aa-5da3e2bf5143"
   },
   "outputs": [
    {
     "name": "stderr",
     "output_type": "stream",
     "text": [
      "/Library/Frameworks/Python.framework/Versions/3.11/lib/python3.11/site-packages/statsmodels/tsa/base/tsa_model.py:836: ValueWarning: No supported index is available. Prediction results will be given with an integer index beginning at `start`.\n",
      "  return get_prediction_index(\n"
     ]
    }
   ],
   "source": [
    "# sarima forecast\n",
    "sari_forecast = sari_result.get_forecast(steps=len(test))\n",
    "sari_fore_values = sari_forecast.predicted_mean"
   ]
  },
  {
   "cell_type": "code",
   "execution_count": 30,
   "metadata": {
    "colab": {
     "base_uri": "https://localhost:8080/"
    },
    "id": "2cs4lOTaXZhi",
    "outputId": "1f8c3e02-db98-49da-8e7d-1643b1001deb"
   },
   "outputs": [
    {
     "name": "stdout",
     "output_type": "stream",
     "text": [
      "SARIMAX MAE: 2.4496222653825606\n",
      "SARIMAX MSE: 7.643850443489737\n",
      "SARIMAX RMSE: 2.764751425262267\n"
     ]
    }
   ],
   "source": [
    "# Evaluate Sarima\n",
    "mae = mean_absolute_error(test, sari_fore_values)\n",
    "mse = mean_squared_error(test, sari_fore_values)\n",
    "rmse = np.sqrt(mse)\n",
    "\n",
    "print(f'SARIMAX MAE: {mae}')\n",
    "print(f'SARIMAX MSE: {mse}')\n",
    "print(f'SARIMAX RMSE: {rmse}')"
   ]
  },
  {
   "cell_type": "code",
   "execution_count": 31,
   "metadata": {
    "colab": {
     "base_uri": "https://localhost:8080/"
    },
    "id": "2tHy_igbnm8I",
    "outputId": "ed46f911-7432-4d17-c926-519dd924cd48"
   },
   "outputs": [
    {
     "name": "stderr",
     "output_type": "stream",
     "text": [
      "/Library/Frameworks/Python.framework/Versions/3.11/lib/python3.11/site-packages/statsmodels/tsa/base/tsa_model.py:836: ValueWarning: No supported index is available. Prediction results will be given with an integer index beginning at `start`.\n",
      "  return get_prediction_index(\n"
     ]
    }
   ],
   "source": [
    "sari_predict = sari_result.predict(start=len(train), end=len(train)+len(test)-1, dynamic=True)"
   ]
  },
  {
   "cell_type": "code",
   "execution_count": 32,
   "metadata": {
    "id": "nEk3p4rgtcBt"
   },
   "outputs": [],
   "source": [
    "sari_predict.index = test.index"
   ]
  },
  {
   "cell_type": "code",
   "execution_count": 33,
   "metadata": {
    "colab": {
     "base_uri": "https://localhost:8080/",
     "height": 335
    },
    "id": "M14RHEQhtmwZ",
    "outputId": "8917a6b1-3bb8-4eb6-c33c-6f0dc94d3f89"
   },
   "outputs": [
    {
     "data": {
      "text/plain": [
       "order_date\n",
       "2015-12-24    7.520049\n",
       "2015-12-26    6.311610\n",
       "2015-12-27    5.876285\n",
       "2015-12-28    6.495931\n",
       "2015-12-29    6.131542\n",
       "2015-12-30    6.517961\n",
       "2015-12-31    6.706022\n",
       "Name: predicted_mean, dtype: float64"
      ]
     },
     "execution_count": 33,
     "metadata": {},
     "output_type": "execute_result"
    }
   ],
   "source": [
    "sari_predict"
   ]
  },
  {
   "cell_type": "code",
   "execution_count": 34,
   "metadata": {
    "colab": {
     "base_uri": "https://localhost:8080/",
     "height": 300
    },
    "id": "8r48b4KHoAJH",
    "outputId": "04e6aa11-dbe7-4b37-996e-40012dbee70f"
   },
   "outputs": [
    {
     "data": {
      "text/html": [
       "<div>\n",
       "<style scoped>\n",
       "    .dataframe tbody tr th:only-of-type {\n",
       "        vertical-align: middle;\n",
       "    }\n",
       "\n",
       "    .dataframe tbody tr th {\n",
       "        vertical-align: top;\n",
       "    }\n",
       "\n",
       "    .dataframe thead th {\n",
       "        text-align: right;\n",
       "    }\n",
       "</style>\n",
       "<table border=\"1\" class=\"dataframe\">\n",
       "  <thead>\n",
       "    <tr style=\"text-align: right;\">\n",
       "      <th></th>\n",
       "      <th>Actual</th>\n",
       "      <th>Predicted</th>\n",
       "    </tr>\n",
       "    <tr>\n",
       "      <th>order_date</th>\n",
       "      <th></th>\n",
       "      <th></th>\n",
       "    </tr>\n",
       "  </thead>\n",
       "  <tbody>\n",
       "    <tr>\n",
       "      <th>2015-12-24</th>\n",
       "      <td>4.0</td>\n",
       "      <td>7.520049</td>\n",
       "    </tr>\n",
       "    <tr>\n",
       "      <th>2015-12-26</th>\n",
       "      <td>5.0</td>\n",
       "      <td>6.311610</td>\n",
       "    </tr>\n",
       "    <tr>\n",
       "      <th>2015-12-27</th>\n",
       "      <td>4.0</td>\n",
       "      <td>5.876285</td>\n",
       "    </tr>\n",
       "    <tr>\n",
       "      <th>2015-12-28</th>\n",
       "      <td>2.0</td>\n",
       "      <td>6.495931</td>\n",
       "    </tr>\n",
       "    <tr>\n",
       "      <th>2015-12-29</th>\n",
       "      <td>4.0</td>\n",
       "      <td>6.131542</td>\n",
       "    </tr>\n",
       "    <tr>\n",
       "      <th>2015-12-30</th>\n",
       "      <td>6.0</td>\n",
       "      <td>6.517961</td>\n",
       "    </tr>\n",
       "    <tr>\n",
       "      <th>2015-12-31</th>\n",
       "      <td>10.0</td>\n",
       "      <td>6.706022</td>\n",
       "    </tr>\n",
       "  </tbody>\n",
       "</table>\n",
       "</div>"
      ],
      "text/plain": [
       "            Actual  Predicted\n",
       "order_date                   \n",
       "2015-12-24     4.0   7.520049\n",
       "2015-12-26     5.0   6.311610\n",
       "2015-12-27     4.0   5.876285\n",
       "2015-12-28     2.0   6.495931\n",
       "2015-12-29     4.0   6.131542\n",
       "2015-12-30     6.0   6.517961\n",
       "2015-12-31    10.0   6.706022"
      ]
     },
     "execution_count": 34,
     "metadata": {},
     "output_type": "execute_result"
    }
   ],
   "source": [
    "concatenated_sarima = pd.concat([test, sari_predict] , axis=1)\n",
    "concatenated_sarima.columns = ['Actual', 'Predicted']\n",
    "concatenated_sarima"
   ]
  },
  {
   "cell_type": "code",
   "execution_count": 35,
   "metadata": {
    "colab": {
     "base_uri": "https://localhost:8080/",
     "height": 519
    },
    "id": "-DGSrNG1uAvC",
    "outputId": "a301fc14-2af7-4df6-902c-20c1ce8384f1"
   },
   "outputs": [
    {
     "data": {
      "image/png": "[encoded data removed]",
      "text/plain": [
       "<Figure size 1200x600 with 1 Axes>"
      ]
     },
     "metadata": {},
     "output_type": "display_data"
    }
   ],
   "source": [
    "concatenated_sarima.plot(figsize=(12, 6))\n",
    "plt.xlabel('Order Date')\n",
    "plt.ylabel('Quantity Purchased')\n",
    "plt.title('Actual vs. Predicted Quantity Purchased for Barbecue Chicken Pizza')\n",
    "plt.show()"
   ]
  },
  {
   "cell_type": "code",
   "execution_count": null,
   "metadata": {},
   "outputs": [],
   "source": []
  }
 ],
 "metadata": {
  "colab": {
   "provenance": []
  },
  "kernelspec": {
   "display_name": "Python 3 (ipykernel)",
   "language": "python",
   "name": "python3"
  },
  "language_info": {
   "codemirror_mode": {
    "name": "ipython",
    "version": 3
   },
   "file_extension": ".py",
   "mimetype": "text/x-python",
   "name": "python",
   "nbconvert_exporter": "python",
   "pygments_lexer": "ipython3",
   "version": "3.11.5"
  }
 },
 "nbformat": 4,
 "nbformat_minor": 4
}
