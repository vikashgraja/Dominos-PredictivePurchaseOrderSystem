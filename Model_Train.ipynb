{
 "cells": [
  {
   "cell_type": "code",
   "execution_count": 1,
   "metadata": {
    "id": "Ogyp8vs92I3u"
   },
   "outputs": [],
   "source": [
    "import pandas as pd\n",
    "import numpy as np\n",
    "from statsmodels.tsa.arima.model import ARIMA\n",
    "from statsmodels.tsa.statespace.sarimax import SARIMAX\n",
    "import warnings\n",
    "warnings.filterwarnings('ignore')"
   ]
  },
  {
   "cell_type": "code",
   "execution_count": null,
   "metadata": {
    "id": "TG_GKYpFQnfF"
   },
   "outputs": [],
   "source": []
  },
  {
   "cell_type": "code",
   "execution_count": 2,
   "metadata": {
    "id": "jn8JLQsf3XRj"
   },
   "outputs": [],
   "source": [
    "pizza_df = pd.read_excel('dataset/master/Pizza_Sale.xlsx')\n",
    "ingred_df = pd.read_excel('dataset/master/Pizza_ingredients.xlsx')"
   ]
  },
  {
   "cell_type": "code",
   "execution_count": null,
   "metadata": {},
   "outputs": [],
   "source": []
  },
  {
   "cell_type": "code",
   "execution_count": 3,
   "metadata": {},
   "outputs": [],
   "source": [
    "def parse_dates(date):\n",
    "  for fmt in ('%d-%m-%Y', '%d/%m/%Y'):\n",
    "    try:\n",
    "      return pd.to_datetime(date, format=fmt)\n",
    "    except ValueError:\n",
    "      pass\n",
    "  raise ValueError(f'no valid date format found for {date}')"
   ]
  },
  {
   "cell_type": "code",
   "execution_count": 4,
   "metadata": {},
   "outputs": [],
   "source": [
    "pizza_df['order_date'] = pizza_df['order_date'].apply(parse_dates)"
   ]
  },
  {
   "cell_type": "code",
   "execution_count": 5,
   "metadata": {
    "id": "WXe7TLpr7gk9"
   },
   "outputs": [],
   "source": [
    "pizza_df = pizza_df[['order_date', 'pizza_name', 'quantity']]"
   ]
  },
  {
   "cell_type": "code",
   "execution_count": null,
   "metadata": {},
   "outputs": [],
   "source": []
  },
  {
   "cell_type": "code",
   "execution_count": 6,
   "metadata": {
    "id": "qEhWcx8A8JkM"
   },
   "outputs": [],
   "source": [
    "sales_summary = pizza_df.groupby(['order_date', 'pizza_name']).sum().reset_index()"
   ]
  },
  {
   "cell_type": "code",
   "execution_count": 7,
   "metadata": {
    "colab": {
     "base_uri": "https://localhost:8080/",
     "height": 206
    },
    "id": "R0hRW0gT9EK0",
    "outputId": "4e5b7342-078f-4988-8fe6-4ea5a548cbae"
   },
   "outputs": [
    {
     "data": {
      "text/html": [
       "<div>\n",
       "<style scoped>\n",
       "    .dataframe tbody tr th:only-of-type {\n",
       "        vertical-align: middle;\n",
       "    }\n",
       "\n",
       "    .dataframe tbody tr th {\n",
       "        vertical-align: top;\n",
       "    }\n",
       "\n",
       "    .dataframe thead th {\n",
       "        text-align: right;\n",
       "    }\n",
       "</style>\n",
       "<table border=\"1\" class=\"dataframe\">\n",
       "  <thead>\n",
       "    <tr style=\"text-align: right;\">\n",
       "      <th></th>\n",
       "      <th>order_date</th>\n",
       "      <th>pizza_name</th>\n",
       "      <th>quantity</th>\n",
       "    </tr>\n",
       "  </thead>\n",
       "  <tbody>\n",
       "    <tr>\n",
       "      <th>0</th>\n",
       "      <td>2015-01-01</td>\n",
       "      <td>The Barbecue Chicken Pizza</td>\n",
       "      <td>11</td>\n",
       "    </tr>\n",
       "    <tr>\n",
       "      <th>1</th>\n",
       "      <td>2015-01-01</td>\n",
       "      <td>The Big Meat Pizza</td>\n",
       "      <td>5</td>\n",
       "    </tr>\n",
       "    <tr>\n",
       "      <th>2</th>\n",
       "      <td>2015-01-01</td>\n",
       "      <td>The Calabrese Pizza</td>\n",
       "      <td>1</td>\n",
       "    </tr>\n",
       "    <tr>\n",
       "      <th>3</th>\n",
       "      <td>2015-01-01</td>\n",
       "      <td>The California Chicken Pizza</td>\n",
       "      <td>4</td>\n",
       "    </tr>\n",
       "    <tr>\n",
       "      <th>4</th>\n",
       "      <td>2015-01-01</td>\n",
       "      <td>The Chicken Alfredo Pizza</td>\n",
       "      <td>2</td>\n",
       "    </tr>\n",
       "  </tbody>\n",
       "</table>\n",
       "</div>"
      ],
      "text/plain": [
       "  order_date                    pizza_name  quantity\n",
       "0 2015-01-01    The Barbecue Chicken Pizza        11\n",
       "1 2015-01-01            The Big Meat Pizza         5\n",
       "2 2015-01-01           The Calabrese Pizza         1\n",
       "3 2015-01-01  The California Chicken Pizza         4\n",
       "4 2015-01-01     The Chicken Alfredo Pizza         2"
      ]
     },
     "execution_count": 7,
     "metadata": {},
     "output_type": "execute_result"
    }
   ],
   "source": [
    "sales_summary.head()"
   ]
  },
  {
   "cell_type": "code",
   "execution_count": 8,
   "metadata": {
    "id": "8tT0gpCoO4Kt"
   },
   "outputs": [],
   "source": [
    "sales_pivot = sales_summary.pivot(index='order_date', columns='pizza_name', values='quantity').fillna(0)"
   ]
  },
  {
   "cell_type": "code",
   "execution_count": 9,
   "metadata": {
    "id": "TvMZr67AO4IF"
   },
   "outputs": [],
   "source": [
    "arima_models = {}\n",
    "\n",
    "for pizza_name in sales_pivot.columns:\n",
    "  try:\n",
    "    model = ARIMA(sales_pivot[pizza_name], order=(1, 1, 0))\n",
    "    model_fit = model.fit()\n",
    "    arima_models[pizza_name] = model_fit\n",
    "  except:\n",
    "    print(f'ARIMA model for {pizza_name} failed to fit')"
   ]
  },
  {
   "cell_type": "code",
   "execution_count": 10,
   "metadata": {
    "id": "RDT5I4psQ00j"
   },
   "outputs": [],
   "source": [
    "prediction_days = 7\n",
    "predictions_arima = {}\n",
    "\n",
    "for pizza_name, model in arima_models.items():\n",
    "  predictions_arima[pizza_name] = model.predict(start=len(sales_pivot), end=len(sales_pivot) + prediction_days - 1)"
   ]
  },
  {
   "cell_type": "code",
   "execution_count": 11,
   "metadata": {
    "id": "__PDrp4gR0O8"
   },
   "outputs": [],
   "source": [
    "predictions_df = pd.DataFrame(predictions_arima)"
   ]
  },
  {
   "cell_type": "code",
   "execution_count": 12,
   "metadata": {
    "id": "9UZ-mTbpTwyH"
   },
   "outputs": [],
   "source": [
    "predictions_df.index = pd.date_range(start=sales_pivot.index[-1], periods=prediction_days, freq='D')"
   ]
  },
  {
   "cell_type": "code",
   "execution_count": 13,
   "metadata": {
    "id": "w54qIepLYG6r"
   },
   "outputs": [],
   "source": [
    "ingredients_df = ingred_df[['pizza_name', 'pizza_ingredients', 'Items_Qty_In_Grams']]"
   ]
  },
  {
   "cell_type": "code",
   "execution_count": 14,
   "metadata": {
    "id": "4zoDMZctZwn0"
   },
   "outputs": [],
   "source": [
    "ingredients_df.rename(columns={'Items_Qty_In_Grams': 'items_qty'}, inplace=True)"
   ]
  },
  {
   "cell_type": "code",
   "execution_count": 15,
   "metadata": {
    "colab": {
     "base_uri": "https://localhost:8080/",
     "height": 509
    },
    "id": "Mbb1LIXNYY40",
    "outputId": "c0033ccd-ae42-40ee-8802-c4c1136e9b2e"
   },
   "outputs": [
    {
     "data": {
      "text/html": [
       "<div>\n",
       "<style scoped>\n",
       "    .dataframe tbody tr th:only-of-type {\n",
       "        vertical-align: middle;\n",
       "    }\n",
       "\n",
       "    .dataframe tbody tr th {\n",
       "        vertical-align: top;\n",
       "    }\n",
       "\n",
       "    .dataframe thead th {\n",
       "        text-align: right;\n",
       "    }\n",
       "</style>\n",
       "<table border=\"1\" class=\"dataframe\">\n",
       "  <thead>\n",
       "    <tr style=\"text-align: right;\">\n",
       "      <th></th>\n",
       "      <th>The Barbecue Chicken Pizza</th>\n",
       "      <th>The Big Meat Pizza</th>\n",
       "      <th>The Brie Carre Pizza</th>\n",
       "      <th>The Calabrese Pizza</th>\n",
       "      <th>The California Chicken Pizza</th>\n",
       "      <th>The Chicken Alfredo Pizza</th>\n",
       "      <th>The Chicken Pesto Pizza</th>\n",
       "      <th>The Classic Deluxe Pizza</th>\n",
       "      <th>The Five Cheese Pizza</th>\n",
       "      <th>The Four Cheese Pizza</th>\n",
       "      <th>...</th>\n",
       "      <th>The Prosciutto and Arugula Pizza</th>\n",
       "      <th>The Sicilian Pizza</th>\n",
       "      <th>The Soppressata Pizza</th>\n",
       "      <th>The Southwest Chicken Pizza</th>\n",
       "      <th>The Spicy Italian Pizza</th>\n",
       "      <th>The Spinach Pesto Pizza</th>\n",
       "      <th>The Spinach Supreme Pizza</th>\n",
       "      <th>The Spinach and Feta Pizza</th>\n",
       "      <th>The Thai Chicken Pizza</th>\n",
       "      <th>The Vegetables + Vegetables Pizza</th>\n",
       "    </tr>\n",
       "  </thead>\n",
       "  <tbody>\n",
       "    <tr>\n",
       "      <th>2015-12-31</th>\n",
       "      <td>8.163282</td>\n",
       "      <td>4.359358</td>\n",
       "      <td>0.888569</td>\n",
       "      <td>1.432509</td>\n",
       "      <td>7.0</td>\n",
       "      <td>2.418361</td>\n",
       "      <td>2.102540</td>\n",
       "      <td>7.119636</td>\n",
       "      <td>2.906248</td>\n",
       "      <td>7.042489</td>\n",
       "      <td>...</td>\n",
       "      <td>3.440105</td>\n",
       "      <td>2.285151</td>\n",
       "      <td>2.036685</td>\n",
       "      <td>5.912097</td>\n",
       "      <td>6.099148</td>\n",
       "      <td>3.448682</td>\n",
       "      <td>2.0</td>\n",
       "      <td>3.178298</td>\n",
       "      <td>3.0</td>\n",
       "      <td>7.835581</td>\n",
       "    </tr>\n",
       "    <tr>\n",
       "      <th>2016-01-01</th>\n",
       "      <td>9.006665</td>\n",
       "      <td>5.256593</td>\n",
       "      <td>1.506208</td>\n",
       "      <td>2.251518</td>\n",
       "      <td>7.0</td>\n",
       "      <td>3.252222</td>\n",
       "      <td>3.002629</td>\n",
       "      <td>8.502385</td>\n",
       "      <td>4.002197</td>\n",
       "      <td>8.000451</td>\n",
       "      <td>...</td>\n",
       "      <td>4.251196</td>\n",
       "      <td>3.759232</td>\n",
       "      <td>2.500673</td>\n",
       "      <td>5.496137</td>\n",
       "      <td>7.301283</td>\n",
       "      <td>4.250878</td>\n",
       "      <td>2.0</td>\n",
       "      <td>4.007948</td>\n",
       "      <td>3.0</td>\n",
       "      <td>8.772523</td>\n",
       "    </tr>\n",
       "    <tr>\n",
       "      <th>2016-01-02</th>\n",
       "      <td>8.619401</td>\n",
       "      <td>4.765913</td>\n",
       "      <td>1.162977</td>\n",
       "      <td>1.823589</td>\n",
       "      <td>7.0</td>\n",
       "      <td>2.812600</td>\n",
       "      <td>2.575658</td>\n",
       "      <td>7.838582</td>\n",
       "      <td>3.428536</td>\n",
       "      <td>7.531646</td>\n",
       "      <td>...</td>\n",
       "      <td>3.829457</td>\n",
       "      <td>2.958851</td>\n",
       "      <td>2.277190</td>\n",
       "      <td>5.685834</td>\n",
       "      <td>6.803109</td>\n",
       "      <td>3.836058</td>\n",
       "      <td>2.0</td>\n",
       "      <td>3.630104</td>\n",
       "      <td>3.0</td>\n",
       "      <td>8.366936</td>\n",
       "    </tr>\n",
       "    <tr>\n",
       "      <th>2016-01-03</th>\n",
       "      <td>8.797225</td>\n",
       "      <td>5.034256</td>\n",
       "      <td>1.353716</td>\n",
       "      <td>2.047181</td>\n",
       "      <td>7.0</td>\n",
       "      <td>3.044374</td>\n",
       "      <td>2.778198</td>\n",
       "      <td>8.157248</td>\n",
       "      <td>3.728812</td>\n",
       "      <td>7.761069</td>\n",
       "      <td>...</td>\n",
       "      <td>4.048746</td>\n",
       "      <td>3.393434</td>\n",
       "      <td>2.384832</td>\n",
       "      <td>5.599323</td>\n",
       "      <td>7.009556</td>\n",
       "      <td>4.050564</td>\n",
       "      <td>2.0</td>\n",
       "      <td>3.802184</td>\n",
       "      <td>3.0</td>\n",
       "      <td>8.542508</td>\n",
       "    </tr>\n",
       "    <tr>\n",
       "      <th>2016-01-04</th>\n",
       "      <td>8.715571</td>\n",
       "      <td>4.887504</td>\n",
       "      <td>1.247719</td>\n",
       "      <td>1.930355</td>\n",
       "      <td>7.0</td>\n",
       "      <td>2.922180</td>\n",
       "      <td>2.682120</td>\n",
       "      <td>8.004269</td>\n",
       "      <td>3.571636</td>\n",
       "      <td>7.648794</td>\n",
       "      <td>...</td>\n",
       "      <td>3.934724</td>\n",
       "      <td>3.157468</td>\n",
       "      <td>2.332985</td>\n",
       "      <td>5.638776</td>\n",
       "      <td>6.924003</td>\n",
       "      <td>3.939641</td>\n",
       "      <td>2.0</td>\n",
       "      <td>3.723814</td>\n",
       "      <td>3.0</td>\n",
       "      <td>8.466505</td>\n",
       "    </tr>\n",
       "    <tr>\n",
       "      <th>2016-01-05</th>\n",
       "      <td>8.753065</td>\n",
       "      <td>4.967760</td>\n",
       "      <td>1.306623</td>\n",
       "      <td>1.991396</td>\n",
       "      <td>7.0</td>\n",
       "      <td>2.986602</td>\n",
       "      <td>2.727696</td>\n",
       "      <td>8.077708</td>\n",
       "      <td>3.653908</td>\n",
       "      <td>7.703739</td>\n",
       "      <td>...</td>\n",
       "      <td>3.994012</td>\n",
       "      <td>3.285590</td>\n",
       "      <td>2.357958</td>\n",
       "      <td>5.620784</td>\n",
       "      <td>6.959457</td>\n",
       "      <td>3.997000</td>\n",
       "      <td>2.0</td>\n",
       "      <td>3.759506</td>\n",
       "      <td>3.0</td>\n",
       "      <td>8.499406</td>\n",
       "    </tr>\n",
       "    <tr>\n",
       "      <th>2016-01-06</th>\n",
       "      <td>8.735849</td>\n",
       "      <td>4.923870</td>\n",
       "      <td>1.273889</td>\n",
       "      <td>1.959502</td>\n",
       "      <td>7.0</td>\n",
       "      <td>2.952638</td>\n",
       "      <td>2.706076</td>\n",
       "      <td>8.042453</td>\n",
       "      <td>3.610844</td>\n",
       "      <td>7.676850</td>\n",
       "      <td>...</td>\n",
       "      <td>3.963184</td>\n",
       "      <td>3.216024</td>\n",
       "      <td>2.345930</td>\n",
       "      <td>5.628989</td>\n",
       "      <td>6.944764</td>\n",
       "      <td>3.967340</td>\n",
       "      <td>2.0</td>\n",
       "      <td>3.743251</td>\n",
       "      <td>3.0</td>\n",
       "      <td>8.485164</td>\n",
       "    </tr>\n",
       "  </tbody>\n",
       "</table>\n",
       "<p>7 rows × 32 columns</p>\n",
       "</div>"
      ],
      "text/plain": [
       "            The Barbecue Chicken Pizza  The Big Meat Pizza  \\\n",
       "2015-12-31                    8.163282            4.359358   \n",
       "2016-01-01                    9.006665            5.256593   \n",
       "2016-01-02                    8.619401            4.765913   \n",
       "2016-01-03                    8.797225            5.034256   \n",
       "2016-01-04                    8.715571            4.887504   \n",
       "2016-01-05                    8.753065            4.967760   \n",
       "2016-01-06                    8.735849            4.923870   \n",
       "\n",
       "            The Brie Carre Pizza  The Calabrese Pizza  \\\n",
       "2015-12-31              0.888569             1.432509   \n",
       "2016-01-01              1.506208             2.251518   \n",
       "2016-01-02              1.162977             1.823589   \n",
       "2016-01-03              1.353716             2.047181   \n",
       "2016-01-04              1.247719             1.930355   \n",
       "2016-01-05              1.306623             1.991396   \n",
       "2016-01-06              1.273889             1.959502   \n",
       "\n",
       "            The California Chicken Pizza  The Chicken Alfredo Pizza  \\\n",
       "2015-12-31                           7.0                   2.418361   \n",
       "2016-01-01                           7.0                   3.252222   \n",
       "2016-01-02                           7.0                   2.812600   \n",
       "2016-01-03                           7.0                   3.044374   \n",
       "2016-01-04                           7.0                   2.922180   \n",
       "2016-01-05                           7.0                   2.986602   \n",
       "2016-01-06                           7.0                   2.952638   \n",
       "\n",
       "            The Chicken Pesto Pizza  The Classic Deluxe Pizza  \\\n",
       "2015-12-31                 2.102540                  7.119636   \n",
       "2016-01-01                 3.002629                  8.502385   \n",
       "2016-01-02                 2.575658                  7.838582   \n",
       "2016-01-03                 2.778198                  8.157248   \n",
       "2016-01-04                 2.682120                  8.004269   \n",
       "2016-01-05                 2.727696                  8.077708   \n",
       "2016-01-06                 2.706076                  8.042453   \n",
       "\n",
       "            The Five Cheese Pizza  The Four Cheese Pizza  ...  \\\n",
       "2015-12-31               2.906248               7.042489  ...   \n",
       "2016-01-01               4.002197               8.000451  ...   \n",
       "2016-01-02               3.428536               7.531646  ...   \n",
       "2016-01-03               3.728812               7.761069  ...   \n",
       "2016-01-04               3.571636               7.648794  ...   \n",
       "2016-01-05               3.653908               7.703739  ...   \n",
       "2016-01-06               3.610844               7.676850  ...   \n",
       "\n",
       "            The Prosciutto and Arugula Pizza  The Sicilian Pizza  \\\n",
       "2015-12-31                          3.440105            2.285151   \n",
       "2016-01-01                          4.251196            3.759232   \n",
       "2016-01-02                          3.829457            2.958851   \n",
       "2016-01-03                          4.048746            3.393434   \n",
       "2016-01-04                          3.934724            3.157468   \n",
       "2016-01-05                          3.994012            3.285590   \n",
       "2016-01-06                          3.963184            3.216024   \n",
       "\n",
       "            The Soppressata Pizza  The Southwest Chicken Pizza  \\\n",
       "2015-12-31               2.036685                     5.912097   \n",
       "2016-01-01               2.500673                     5.496137   \n",
       "2016-01-02               2.277190                     5.685834   \n",
       "2016-01-03               2.384832                     5.599323   \n",
       "2016-01-04               2.332985                     5.638776   \n",
       "2016-01-05               2.357958                     5.620784   \n",
       "2016-01-06               2.345930                     5.628989   \n",
       "\n",
       "            The Spicy Italian Pizza  The Spinach Pesto Pizza  \\\n",
       "2015-12-31                 6.099148                 3.448682   \n",
       "2016-01-01                 7.301283                 4.250878   \n",
       "2016-01-02                 6.803109                 3.836058   \n",
       "2016-01-03                 7.009556                 4.050564   \n",
       "2016-01-04                 6.924003                 3.939641   \n",
       "2016-01-05                 6.959457                 3.997000   \n",
       "2016-01-06                 6.944764                 3.967340   \n",
       "\n",
       "            The Spinach Supreme Pizza  The Spinach and Feta Pizza  \\\n",
       "2015-12-31                        2.0                    3.178298   \n",
       "2016-01-01                        2.0                    4.007948   \n",
       "2016-01-02                        2.0                    3.630104   \n",
       "2016-01-03                        2.0                    3.802184   \n",
       "2016-01-04                        2.0                    3.723814   \n",
       "2016-01-05                        2.0                    3.759506   \n",
       "2016-01-06                        2.0                    3.743251   \n",
       "\n",
       "            The Thai Chicken Pizza  The Vegetables + Vegetables Pizza  \n",
       "2015-12-31                     3.0                           7.835581  \n",
       "2016-01-01                     3.0                           8.772523  \n",
       "2016-01-02                     3.0                           8.366936  \n",
       "2016-01-03                     3.0                           8.542508  \n",
       "2016-01-04                     3.0                           8.466505  \n",
       "2016-01-05                     3.0                           8.499406  \n",
       "2016-01-06                     3.0                           8.485164  \n",
       "\n",
       "[7 rows x 32 columns]"
      ]
     },
     "execution_count": 15,
     "metadata": {},
     "output_type": "execute_result"
    }
   ],
   "source": [
    "predictions_df"
   ]
  },
  {
   "cell_type": "code",
   "execution_count": 16,
   "metadata": {
    "colab": {
     "base_uri": "https://localhost:8080/",
     "height": 206
    },
    "id": "0R1KHokaO4Fe",
    "outputId": "e1a572ce-f4e3-4243-956e-10630396ced4"
   },
   "outputs": [
    {
     "data": {
      "text/html": [
       "<div>\n",
       "<style scoped>\n",
       "    .dataframe tbody tr th:only-of-type {\n",
       "        vertical-align: middle;\n",
       "    }\n",
       "\n",
       "    .dataframe tbody tr th {\n",
       "        vertical-align: top;\n",
       "    }\n",
       "\n",
       "    .dataframe thead th {\n",
       "        text-align: right;\n",
       "    }\n",
       "</style>\n",
       "<table border=\"1\" class=\"dataframe\">\n",
       "  <thead>\n",
       "    <tr style=\"text-align: right;\">\n",
       "      <th></th>\n",
       "      <th>pizza_name</th>\n",
       "      <th>pizza_ingredients</th>\n",
       "      <th>items_qty</th>\n",
       "    </tr>\n",
       "  </thead>\n",
       "  <tbody>\n",
       "    <tr>\n",
       "      <th>0</th>\n",
       "      <td>The Barbecue Chicken Pizza</td>\n",
       "      <td>Barbecued Chicken</td>\n",
       "      <td>40.0</td>\n",
       "    </tr>\n",
       "    <tr>\n",
       "      <th>1</th>\n",
       "      <td>The Barbecue Chicken Pizza</td>\n",
       "      <td>Red Peppers</td>\n",
       "      <td>15.0</td>\n",
       "    </tr>\n",
       "    <tr>\n",
       "      <th>2</th>\n",
       "      <td>The Barbecue Chicken Pizza</td>\n",
       "      <td>Green Peppers</td>\n",
       "      <td>20.0</td>\n",
       "    </tr>\n",
       "    <tr>\n",
       "      <th>3</th>\n",
       "      <td>The Barbecue Chicken Pizza</td>\n",
       "      <td>Tomatoes</td>\n",
       "      <td>30.0</td>\n",
       "    </tr>\n",
       "    <tr>\n",
       "      <th>4</th>\n",
       "      <td>The Barbecue Chicken Pizza</td>\n",
       "      <td>Red Onions</td>\n",
       "      <td>60.0</td>\n",
       "    </tr>\n",
       "  </tbody>\n",
       "</table>\n",
       "</div>"
      ],
      "text/plain": [
       "                   pizza_name  pizza_ingredients  items_qty\n",
       "0  The Barbecue Chicken Pizza  Barbecued Chicken       40.0\n",
       "1  The Barbecue Chicken Pizza        Red Peppers       15.0\n",
       "2  The Barbecue Chicken Pizza      Green Peppers       20.0\n",
       "3  The Barbecue Chicken Pizza           Tomatoes       30.0\n",
       "4  The Barbecue Chicken Pizza         Red Onions       60.0"
      ]
     },
     "execution_count": 16,
     "metadata": {},
     "output_type": "execute_result"
    }
   ],
   "source": [
    "ingredients_df.head()"
   ]
  },
  {
   "cell_type": "code",
   "execution_count": 17,
   "metadata": {
    "id": "NbfOe-Uyh0Ob"
   },
   "outputs": [],
   "source": [
    "ingredient_quantities = {}\n",
    "\n",
    "# Iterate through each pizza in the predictions\n",
    "for pizza_name in predictions_df.columns:\n",
    "  # Get the predicted quantity for the pizza\n",
    "  predicted_quantity = predictions_df[pizza_name].sum()\n",
    "\n",
    "  # Get the ingredients for the pizza\n",
    "  pizza_ingredients = ingredients_df[ingredients_df['pizza_name'] == pizza_name]\n",
    "\n",
    "  # Iterate through each ingredient for the pizza\n",
    "  for index, row in pizza_ingredients.iterrows():\n",
    "    ingredient = row['pizza_ingredients']\n",
    "    ingredient_qty = row['items_qty']\n",
    "\n",
    "    # Calculate the required quantity of the ingredient\n",
    "    required_quantity = predicted_quantity * ingredient_qty\n",
    "\n",
    "    # Add the required quantity to the dictionary\n",
    "    if ingredient not in ingredient_quantities:\n",
    "      ingredient_quantities[ingredient] = 0\n",
    "    ingredient_quantities[ingredient] += required_quantity\n",
    "\n",
    "\n"
   ]
  },
  {
   "cell_type": "code",
   "execution_count": 18,
   "metadata": {
    "colab": {
     "base_uri": "https://localhost:8080/"
    },
    "id": "YPEGTDLDiu_T",
    "outputId": "f31ab99a-4ce2-4c8e-a3bc-fba22e1031a6"
   },
   "outputs": [],
   "source": [
    "ingredient_requirements_df = pd.DataFrame.from_dict(ingredient_quantities, orient='index', columns=['quantity'])"
   ]
  },
  {
   "cell_type": "code",
   "execution_count": 19,
   "metadata": {
    "colab": {
     "base_uri": "https://localhost:8080/",
     "height": 424
    },
    "id": "rWOj8XeBjEVS",
    "outputId": "cc93257d-09c6-4e89-d1b8-3f1552839c01"
   },
   "outputs": [
    {
     "data": {
      "text/html": [
       "<div>\n",
       "<style scoped>\n",
       "    .dataframe tbody tr th:only-of-type {\n",
       "        vertical-align: middle;\n",
       "    }\n",
       "\n",
       "    .dataframe tbody tr th {\n",
       "        vertical-align: top;\n",
       "    }\n",
       "\n",
       "    .dataframe thead th {\n",
       "        text-align: right;\n",
       "    }\n",
       "</style>\n",
       "<table border=\"1\" class=\"dataframe\">\n",
       "  <thead>\n",
       "    <tr style=\"text-align: right;\">\n",
       "      <th></th>\n",
       "      <th>quantity</th>\n",
       "    </tr>\n",
       "  </thead>\n",
       "  <tbody>\n",
       "    <tr>\n",
       "      <th>Barbecued Chicken</th>\n",
       "      <td>5471.195153</td>\n",
       "    </tr>\n",
       "    <tr>\n",
       "      <th>Red Peppers</th>\n",
       "      <td>11349.929940</td>\n",
       "    </tr>\n",
       "    <tr>\n",
       "      <th>Green Peppers</th>\n",
       "      <td>8096.027201</td>\n",
       "    </tr>\n",
       "    <tr>\n",
       "      <th>Tomatoes</th>\n",
       "      <td>34840.939745</td>\n",
       "    </tr>\n",
       "    <tr>\n",
       "      <th>Red Onions</th>\n",
       "      <td>54748.422229</td>\n",
       "    </tr>\n",
       "    <tr>\n",
       "      <th>...</th>\n",
       "      <td>...</td>\n",
       "    </tr>\n",
       "    <tr>\n",
       "      <th>Luganega Sausage</th>\n",
       "      <td>2646.689882</td>\n",
       "    </tr>\n",
       "    <tr>\n",
       "      <th>Onions</th>\n",
       "      <td>1323.344941</td>\n",
       "    </tr>\n",
       "    <tr>\n",
       "      <th>Soppressata Salami</th>\n",
       "      <td>4870.875692</td>\n",
       "    </tr>\n",
       "    <tr>\n",
       "      <th>Peperoncini verdi</th>\n",
       "      <td>1441.239606</td>\n",
       "    </tr>\n",
       "    <tr>\n",
       "      <th>Thai Sweet Chilli Sauce</th>\n",
       "      <td>1260.000000</td>\n",
       "    </tr>\n",
       "  </tbody>\n",
       "</table>\n",
       "<p>64 rows × 1 columns</p>\n",
       "</div>"
      ],
      "text/plain": [
       "                             quantity\n",
       "Barbecued Chicken         5471.195153\n",
       "Red Peppers              11349.929940\n",
       "Green Peppers             8096.027201\n",
       "Tomatoes                 34840.939745\n",
       "Red Onions               54748.422229\n",
       "...                               ...\n",
       "Luganega Sausage          2646.689882\n",
       "Onions                    1323.344941\n",
       "Soppressata Salami        4870.875692\n",
       "Peperoncini verdi         1441.239606\n",
       "Thai Sweet Chilli Sauce   1260.000000\n",
       "\n",
       "[64 rows x 1 columns]"
      ]
     },
     "execution_count": 19,
     "metadata": {},
     "output_type": "execute_result"
    }
   ],
   "source": [
    "ingredient_requirements_df"
   ]
  },
  {
   "cell_type": "code",
   "execution_count": null,
   "metadata": {
    "colab": {
     "base_uri": "https://localhost:8080/"
    },
    "id": "a-R8ZQ0mjd41",
    "outputId": "dbffdffa-24d4-42b0-f0a3-3813b36c82e2"
   },
   "outputs": [],
   "source": []
  },
  {
   "cell_type": "code",
   "execution_count": 21,
   "metadata": {
    "colab": {
     "base_uri": "https://localhost:8080/"
    },
    "id": "a-R8ZQ0mjd41",
    "outputId": "dbffdffa-24d4-42b0-f0a3-3813b36c82e2"
   },
   "outputs": [
    {
     "name": "stdout",
     "output_type": "stream",
     "text": [
      "                                quantity\n",
      "Barbecued Chicken            5471.195153\n",
      "Red Peppers                 11349.929940\n",
      "Green Peppers                8096.027201\n",
      "Tomatoes                    34840.939745\n",
      "Red Onions                  54748.422229\n",
      "Barbecue Sauce               1823.731718\n",
      "Bacon                       20179.703935\n",
      "Pepperoni                   23912.964809\n",
      "Italian Sausage               341.952555\n",
      "Chorizo Sausage              1709.762775\n",
      "Brie Carre Cheese             262.191032\n",
      "Prosciutto                    262.191032\n",
      "Caramelized Onions                   NaN\n",
      "Pears                          87.397011\n",
      "Thyme                          43.698505\n",
      "Garlic                      17843.077799\n",
      "?duja Salami                 1612.325924\n",
      "Pancetta                     2418.488886\n",
      "Friggitello Peppers           403.081481\n",
      "Chicken                     44563.749754\n",
      "Artichokes                   8247.815640\n",
      "Spinach                     21052.538164\n",
      "Jalapeno Peppers             3738.624697\n",
      "Fontina Cheese               3914.175138\n",
      "Gouda Cheese                 2940.000000\n",
      "Mushrooms                   26234.645824\n",
      "Asiago Cheese                4106.557534\n",
      "Alfredo Sauce                 917.503903\n",
      "Pesto Sauce                  3886.806175\n",
      "Mozzarella Cheese           10032.393856\n",
      "Provolone Cheese              747.065412\n",
      "Smoked Gouda Cheese           747.065412\n",
      "Romano Cheese                 747.065412\n",
      "Blue Cheese                   747.065412\n",
      "Ricotta Cheese               4002.377898\n",
      "Gorgonzola Piccante Cheese   3201.902319\n",
      "Parmigiano Reggiano Cheese   8004.755797\n",
      "Kalamata Olives              2251.148573\n",
      "Feta Cheese                  7551.837233\n",
      "Beef Chuck Roast             7980.000000\n",
      "Green Olives                 3193.842132\n",
      "Sliced Ham                           NaN\n",
      "Pineapple                    4642.680570\n",
      "Capocollo                   50282.205014\n",
      "Goat Cheese                 11588.474397\n",
      "Oregano                      1455.878993\n",
      "Calabrese Salami            11094.924037\n",
      "Eggplant                     2245.802788\n",
      "Zucchini                     4661.018713\n",
      "Sun-dried Tomatoes           1605.853457\n",
      "Plum Tomatoes                3124.594292\n",
      "Cilantro                     2268.624697\n",
      "Corn                        15124.164644\n",
      "Chipotle Sauce               4537.249393\n",
      "Anchovies                    2840.918897\n",
      "Genoa Salami                 6129.656992\n",
      "Prosciutto di San Daniele    1922.299712\n",
      "Arugula                       823.842734\n",
      "Coarse Sicilian Salami       5293.379765\n",
      "Luganega Sausage             2646.689882\n",
      "Onions                       1323.344941\n",
      "Soppressata Salami           4870.875692\n",
      "Peperoncini verdi            1441.239606\n",
      "Thai Sweet Chilli Sauce      1260.000000\n"
     ]
    }
   ],
   "source": [
    "print(ingredient_requirements_df.to_string())"
   ]
  },
  {
   "cell_type": "code",
   "execution_count": null,
   "metadata": {},
   "outputs": [],
   "source": []
  },
  {
   "cell_type": "code",
   "execution_count": null,
   "metadata": {},
   "outputs": [],
   "source": []
  }
 ],
 "metadata": {
  "colab": {
   "provenance": []
  },
  "kernelspec": {
   "display_name": "Python 3 (ipykernel)",
   "language": "python",
   "name": "python3"
  },
  "language_info": {
   "codemirror_mode": {
    "name": "ipython",
    "version": 3
   },
   "file_extension": ".py",
   "mimetype": "text/x-python",
   "name": "python",
   "nbconvert_exporter": "python",
   "pygments_lexer": "ipython3",
   "version": "3.11.5"
  }
 },
 "nbformat": 4,
 "nbformat_minor": 4
}
